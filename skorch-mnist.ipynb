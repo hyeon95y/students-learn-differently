{
 "cells": [
  {
   "cell_type": "markdown",
   "metadata": {},
   "source": [
    "# Skorch-MNIST"
   ]
  },
  {
   "cell_type": "code",
   "execution_count": 1,
   "metadata": {},
   "outputs": [],
   "source": [
    "from sklearn.datasets import fetch_openml\n",
    "from sklearn.model_selection import train_test_split\n",
    "import numpy as np\n",
    "import matplotlib.pyplot as plt"
   ]
  },
  {
   "cell_type": "markdown",
   "metadata": {},
   "source": [
    "# Load MNIST Data"
   ]
  },
  {
   "cell_type": "code",
   "execution_count": 2,
   "metadata": {},
   "outputs": [],
   "source": [
    "mnist = fetch_openml(\"mnist_784\", cache=False)"
   ]
  },
  {
   "cell_type": "code",
   "execution_count": 3,
   "metadata": {},
   "outputs": [
    {
     "data": {
      "text/plain": [
       "(70000, 784)"
      ]
     },
     "execution_count": 3,
     "metadata": {},
     "output_type": "execute_result"
    }
   ],
   "source": [
    "mnist.data.shape"
   ]
  },
  {
   "cell_type": "code",
   "execution_count": 4,
   "metadata": {},
   "outputs": [],
   "source": [
    "X = mnist.data.astype(\"float32\")\n",
    "y = mnist.target.astype(\"int64\")"
   ]
  },
  {
   "cell_type": "code",
   "execution_count": 5,
   "metadata": {},
   "outputs": [
    {
     "data": {
      "text/plain": [
       "(0.0, 1.0)"
      ]
     },
     "execution_count": 5,
     "metadata": {},
     "output_type": "execute_result"
    }
   ],
   "source": [
    "X /= 255.0\n",
    "X.min(), X.max()"
   ]
  },
  {
   "cell_type": "code",
   "execution_count": 6,
   "metadata": {},
   "outputs": [],
   "source": [
    "X_train, X_test, y_train, y_test = train_test_split(\n",
    "    X, y, test_size=0.25, random_state=42\n",
    ")"
   ]
  },
  {
   "cell_type": "code",
   "execution_count": 7,
   "metadata": {},
   "outputs": [
    {
     "data": {
      "text/plain": [
       "((52500, 784), (52500,))"
      ]
     },
     "execution_count": 7,
     "metadata": {},
     "output_type": "execute_result"
    }
   ],
   "source": [
    "X_train.shape, y_train.shape"
   ]
  },
  {
   "cell_type": "code",
   "execution_count": 8,
   "metadata": {},
   "outputs": [],
   "source": [
    "def plot_example(X, y):\n",
    "    \"\"\"Plot the first 5 images and their labels in a row.\"\"\"\n",
    "    for i, (img, y) in enumerate(zip(X[:5].reshape(5, 28, 28), y[:5])):\n",
    "        plt.subplot(151 + i)\n",
    "        plt.imshow(img)\n",
    "        plt.xticks([])\n",
    "        plt.yticks([])\n",
    "        plt.title(y)"
   ]
  },
  {
   "cell_type": "code",
   "execution_count": 9,
   "metadata": {},
   "outputs": [
    {
     "data": {
      "image/png": "[encoded data removed]",
      "text/plain": [
       "<Figure size 432x288 with 5 Axes>"
      ]
     },
     "metadata": {},
     "output_type": "display_data"
    }
   ],
   "source": [
    "plot_example(X_train, y_train)"
   ]
  },
  {
   "cell_type": "markdown",
   "metadata": {},
   "source": [
    "# Build NN with PyTorch"
   ]
  },
  {
   "cell_type": "code",
   "execution_count": 10,
   "metadata": {},
   "outputs": [],
   "source": [
    "import torch\n",
    "from torch import nn\n",
    "import torch.nn.functional as F"
   ]
  },
  {
   "cell_type": "code",
   "execution_count": 11,
   "metadata": {},
   "outputs": [
    {
     "name": "stdout",
     "output_type": "stream",
     "text": [
      "cuda:0\n"
     ]
    }
   ],
   "source": [
    "device = torch.device(\"cuda:0\" if torch.cuda.is_available() else \"cpu\")\n",
    "print(device)"
   ]
  },
  {
   "cell_type": "code",
   "execution_count": 12,
   "metadata": {},
   "outputs": [
    {
     "data": {
      "text/plain": [
       "(784, 98, 10)"
      ]
     },
     "execution_count": 12,
     "metadata": {},
     "output_type": "execute_result"
    }
   ],
   "source": [
    "mnist_dim = X.shape[1]\n",
    "hidden_dim = int(mnist_dim / 8)\n",
    "output_dim = len(np.unique(mnist.target))\n",
    "mnist_dim, hidden_dim, output_dim"
   ]
  },
  {
   "cell_type": "code",
   "execution_count": 13,
   "metadata": {},
   "outputs": [],
   "source": [
    "class ClassifierModule(nn.Module):\n",
    "    def __init__(\n",
    "        self,\n",
    "        input_dim=mnist_dim,\n",
    "        hidden_dim=hidden_dim,\n",
    "        output_dim=output_dim,\n",
    "        dropout=0.5,\n",
    "    ):\n",
    "        super(ClassifierModule, self).__init__()\n",
    "        self.dropout = nn.Dropout(dropout)\n",
    "\n",
    "        self.hidden = nn.Linear(input_dim, hidden_dim)\n",
    "        self.output = nn.Linear(hidden_dim, output_dim)\n",
    "\n",
    "    def forward(self, X, **kwargs):\n",
    "        X = F.relu(self.hidden(X))\n",
    "        X = self.dropout(X)\n",
    "        X = F.softmax(self.output(X), dim=-1)\n",
    "        return X"
   ]
  },
  {
   "cell_type": "code",
   "execution_count": 14,
   "metadata": {},
   "outputs": [],
   "source": [
    "from skorch import NeuralNetClassifier\n",
    "from skorch.callbacks import EpochScoring"
   ]
  },
  {
   "cell_type": "code",
   "execution_count": 15,
   "metadata": {},
   "outputs": [],
   "source": [
    "from sklearn.metrics import accuracy_score\n",
    "\n",
    "acc = EpochScoring(accuracy_score)"
   ]
  },
  {
   "cell_type": "code",
   "execution_count": 16,
   "metadata": {},
   "outputs": [],
   "source": [
    "torch.manual_seed(0)\n",
    "\n",
    "net = NeuralNetClassifier(\n",
    "    ClassifierModule, max_epochs=20, lr=0.1, device=device, callbacks=[acc]\n",
    ")"
   ]
  },
  {
   "cell_type": "markdown",
   "metadata": {},
   "source": [
    "- Seems all metrics are on validation set\n",
    "- How to get it from train set?"
   ]
  },
  {
   "cell_type": "code",
   "execution_count": 17,
   "metadata": {},
   "outputs": [
    {
     "name": "stdout",
     "output_type": "stream",
     "text": [
      "  epoch    accuracy_score    train_loss    valid_acc    valid_loss     dur\n",
      "-------  ----------------  ------------  -----------  ------------  ------\n",
      "      1            \u001b[36m0.8876\u001b[0m        \u001b[32m0.8297\u001b[0m       \u001b[35m0.8876\u001b[0m        \u001b[31m0.4013\u001b[0m  0.9314\n",
      "      2            0.9121        \u001b[32m0.4352\u001b[0m       \u001b[35m0.9121\u001b[0m        \u001b[31m0.3075\u001b[0m  0.9280\n",
      "      3            0.9218        \u001b[32m0.3653\u001b[0m       \u001b[35m0.9218\u001b[0m        \u001b[31m0.2698\u001b[0m  0.9405\n",
      "      4            0.9312        \u001b[32m0.3223\u001b[0m       \u001b[35m0.9312\u001b[0m        \u001b[31m0.2350\u001b[0m  0.9490\n",
      "      5            0.9348        \u001b[32m0.2953\u001b[0m       \u001b[35m0.9348\u001b[0m        \u001b[31m0.2216\u001b[0m  0.9479\n",
      "      6            0.9409        \u001b[32m0.2705\u001b[0m       \u001b[35m0.9409\u001b[0m        \u001b[31m0.2006\u001b[0m  0.9514\n",
      "      7            0.9439        \u001b[32m0.2575\u001b[0m       \u001b[35m0.9439\u001b[0m        \u001b[31m0.1872\u001b[0m  0.9567\n",
      "      8            0.9466        \u001b[32m0.2443\u001b[0m       \u001b[35m0.9466\u001b[0m        \u001b[31m0.1796\u001b[0m  0.9469\n",
      "      9            0.9510        \u001b[32m0.2315\u001b[0m       \u001b[35m0.9510\u001b[0m        \u001b[31m0.1673\u001b[0m  0.9452\n",
      "     10            0.9532        \u001b[32m0.2245\u001b[0m       \u001b[35m0.9532\u001b[0m        \u001b[31m0.1617\u001b[0m  0.9449\n",
      "     11            0.9543        \u001b[32m0.2124\u001b[0m       \u001b[35m0.9543\u001b[0m        \u001b[31m0.1556\u001b[0m  0.9442\n",
      "     12            0.9552        \u001b[32m0.2085\u001b[0m       \u001b[35m0.9552\u001b[0m        \u001b[31m0.1502\u001b[0m  0.9444\n",
      "     13            0.9584        \u001b[32m0.2012\u001b[0m       \u001b[35m0.9584\u001b[0m        \u001b[31m0.1446\u001b[0m  0.9834\n",
      "     14            0.9587        \u001b[32m0.1969\u001b[0m       \u001b[35m0.9587\u001b[0m        \u001b[31m0.1398\u001b[0m  1.1278\n",
      "     15            0.9586        \u001b[32m0.1910\u001b[0m       0.9586        \u001b[31m0.1369\u001b[0m  1.1197\n",
      "     16            0.9610        \u001b[32m0.1828\u001b[0m       \u001b[35m0.9610\u001b[0m        \u001b[31m0.1325\u001b[0m  1.1175\n",
      "     17            0.9613        \u001b[32m0.1804\u001b[0m       \u001b[35m0.9613\u001b[0m        \u001b[31m0.1324\u001b[0m  1.1185\n",
      "     18            0.9604        \u001b[32m0.1770\u001b[0m       0.9604        \u001b[31m0.1289\u001b[0m  1.1226\n",
      "     19            0.9621        \u001b[32m0.1720\u001b[0m       \u001b[35m0.9621\u001b[0m        \u001b[31m0.1245\u001b[0m  1.1158\n",
      "     20            0.9617        \u001b[32m0.1712\u001b[0m       0.9617        \u001b[31m0.1229\u001b[0m  1.1163\n"
     ]
    },
    {
     "data": {
      "text/plain": [
       "<class 'skorch.classifier.NeuralNetClassifier'>[initialized](\n",
       "  module_=ClassifierModule(\n",
       "    (dropout): Dropout(p=0.5, inplace=False)\n",
       "    (hidden): Linear(in_features=784, out_features=98, bias=True)\n",
       "    (output): Linear(in_features=98, out_features=10, bias=True)\n",
       "  ),\n",
       ")"
      ]
     },
     "execution_count": 17,
     "metadata": {},
     "output_type": "execute_result"
    }
   ],
   "source": [
    "net.fit(X_train, y_train)"
   ]
  },
  {
   "cell_type": "code",
   "execution_count": 18,
   "metadata": {},
   "outputs": [
    {
     "data": {
      "image/png": "[encoded data removed]",
      "text/plain": [
       "<Figure size 1440x432 with 2 Axes>"
      ]
     },
     "metadata": {
      "needs_background": "light"
     },
     "output_type": "display_data"
    }
   ],
   "source": [
    "plt.figure(figsize=(20, 6))\n",
    "plt.subplot(2, 1, 1)\n",
    "plt.plot(net.history[:, \"train_loss\"], label=\"train_loss\")\n",
    "plt.plot(net.history[:, \"valid_loss\"], label=\"valid_loss\")\n",
    "plt.yscale(\"log\")\n",
    "plt.ylabel(\"log loss\")\n",
    "plt.legend()\n",
    "plt.subplot(2, 1, 2)\n",
    "plt.plot(net.history[:, \"accuracy_score\"], label=\"accuracy_score\")\n",
    "plt.legend()\n",
    "plt.show()"
   ]
  },
  {
   "cell_type": "markdown",
   "metadata": {},
   "source": [
    "# CNN"
   ]
  },
  {
   "cell_type": "code",
   "execution_count": 19,
   "metadata": {},
   "outputs": [],
   "source": [
    "XCnn = X.reshape(-1, 1, 28, 28)\n",
    "Xcnn.shape"
   ]
  },
  {
   "cell_type": "code",
   "execution_count": 20,
   "metadata": {},
   "outputs": [],
   "source": [
    "XCnn_train, XCnn_test, y_train, y_test = train_test_split(\n",
    "    XCnn, y, test_size=0.25, random_state=42\n",
    ")"
   ]
  },
  {
   "cell_type": "code",
   "execution_count": 21,
   "metadata": {},
   "outputs": [],
   "source": [
    "class Cnn(nn.Module):\n",
    "    def __init__(self, dropout=0.5):\n",
    "        super(Cnn, self).__init__()\n",
    "        self.conv1 = nn.Conv2d(1, 32, kernel_size=3)\n",
    "        self.conv2 = nn.Conv2d(32, 64, kernel_size=3)\n",
    "        self.conv2_drop = nn.Dropout2d(p=dropout)\n",
    "        self.fc1 = nn.Linear(1600, 100)  # 1600 = number channels * width * height\n",
    "        self.fc2 = nn.Linear(100, 10)\n",
    "        self.fc1_drop = nn.Dropout(p=dropout)\n",
    "\n",
    "    def forward(self, x):\n",
    "        x = torch.relu(F.max_pool2d(self.conv1(x), 2))\n",
    "        x = torch.relu(F.max_pool2d(self.conv2_drop(self.conv2(x)), 2))\n",
    "\n",
    "        # flatten over channel, height and width = 1600\n",
    "        x = x.view(-1, x.size(1) * x.size(2) * x.size(3))\n",
    "\n",
    "        x = torch.relu(self.fc1_drop(self.fc1(x)))\n",
    "        x = torch.softmax(self.fc2(x), dim=-1)\n",
    "        return x"
   ]
  },
  {
   "cell_type": "code",
   "execution_count": 22,
   "metadata": {},
   "outputs": [],
   "source": [
    "torch.manual_seed(0)\n",
    "\n",
    "cnn = NeuralNetClassifier(\n",
    "    Cnn,\n",
    "    max_epochs=10,\n",
    "    lr=0.002,\n",
    "    optimizer=torch.optim.Adam,\n",
    "    device=device,\n",
    "    callbacks=[acc],\n",
    ")"
   ]
  },
  {
   "cell_type": "code",
   "execution_count": 23,
   "metadata": {},
   "outputs": [
    {
     "name": "stdout",
     "output_type": "stream",
     "text": [
      "  epoch    accuracy_score    train_loss    valid_acc    valid_loss     dur\n",
      "-------  ----------------  ------------  -----------  ------------  ------\n",
      "      1            \u001b[36m0.9717\u001b[0m        \u001b[32m0.4371\u001b[0m       \u001b[35m0.9717\u001b[0m        \u001b[31m0.0952\u001b[0m  1.5752\n",
      "      2            0.9789        \u001b[32m0.1708\u001b[0m       \u001b[35m0.9789\u001b[0m        \u001b[31m0.0676\u001b[0m  1.5557\n",
      "      3            0.9805        \u001b[32m0.1360\u001b[0m       \u001b[35m0.9805\u001b[0m        \u001b[31m0.0613\u001b[0m  1.5290\n",
      "      4            0.9841        \u001b[32m0.1125\u001b[0m       \u001b[35m0.9841\u001b[0m        \u001b[31m0.0504\u001b[0m  1.5159\n",
      "      5            0.9856        \u001b[32m0.1091\u001b[0m       \u001b[35m0.9856\u001b[0m        \u001b[31m0.0466\u001b[0m  1.4986\n",
      "      6            0.9857        \u001b[32m0.1012\u001b[0m       \u001b[35m0.9857\u001b[0m        \u001b[31m0.0451\u001b[0m  1.5337\n",
      "      7            0.9864        \u001b[32m0.0934\u001b[0m       \u001b[35m0.9864\u001b[0m        0.0451  1.5011\n",
      "      8            0.9870        \u001b[32m0.0861\u001b[0m       \u001b[35m0.9870\u001b[0m        \u001b[31m0.0415\u001b[0m  1.5231\n",
      "      9            0.9873        \u001b[32m0.0827\u001b[0m       \u001b[35m0.9873\u001b[0m        \u001b[31m0.0382\u001b[0m  1.5325\n",
      "     10            0.9873        \u001b[32m0.0773\u001b[0m       0.9873        0.0387  1.5309\n"
     ]
    }
   ],
   "source": [
    "cnn.fit(XCnn_train, y_train);"
   ]
  },
  {
   "cell_type": "code",
   "execution_count": 24,
   "metadata": {},
   "outputs": [],
   "source": [
    "y_pred_cnn = cnn.predict(XCnn_test)"
   ]
  },
  {
   "cell_type": "code",
   "execution_count": 25,
   "metadata": {},
   "outputs": [
    {
     "data": {
      "text/plain": [
       "0.9878857142857143"
      ]
     },
     "execution_count": 25,
     "metadata": {},
     "output_type": "execute_result"
    }
   ],
   "source": [
    "accuracy_score(y_test, y_pred_cnn)"
   ]
  },
  {
   "cell_type": "code",
   "execution_count": 26,
   "metadata": {},
   "outputs": [
    {
     "ename": "NameError",
     "evalue": "name 'error_mask' is not defined",
     "output_type": "error",
     "traceback": [
      "\u001b[0;31m---------------------------------------------------------------------------\u001b[0m",
      "\u001b[0;31mNameError\u001b[0m                                 Traceback (most recent call last)",
      "\u001b[0;32m<ipython-input-26-e93f4cede034>\u001b[0m in \u001b[0;36m<module>\u001b[0;34m\u001b[0m\n\u001b[0;32m----> 1\u001b[0;31m \u001b[0maccuracy_score\u001b[0m\u001b[0;34m(\u001b[0m\u001b[0my_test\u001b[0m\u001b[0;34m[\u001b[0m\u001b[0merror_mask\u001b[0m\u001b[0;34m]\u001b[0m\u001b[0;34m,\u001b[0m \u001b[0my_pred_cnn\u001b[0m\u001b[0;34m[\u001b[0m\u001b[0merror_mask\u001b[0m\u001b[0;34m]\u001b[0m\u001b[0;34m)\u001b[0m\u001b[0;34m\u001b[0m\u001b[0m\n\u001b[0m",
      "\u001b[0;31mNameError\u001b[0m: name 'error_mask' is not defined"
     ]
    }
   ],
   "source": [
    "accuracy_score(y_test[error_mask], y_pred_cnn[error_mask])"
   ]
  },
  {
   "cell_type": "code",
   "execution_count": null,
   "metadata": {},
   "outputs": [],
   "source": []
  }
 ],
 "metadata": {
  "kernelspec": {
   "display_name": "Python 3",
   "language": "python",
   "name": "python3"
  },
  "language_info": {
   "codemirror_mode": {
    "name": "ipython",
    "version": 3
   },
   "file_extension": ".py",
   "mimetype": "text/x-python",
   "name": "python",
   "nbconvert_exporter": "python",
   "pygments_lexer": "ipython3",
   "version": "3.6.5"
  }
 },
 "nbformat": 4,
 "nbformat_minor": 4
}
