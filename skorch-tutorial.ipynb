{
 "cells": [
  {
   "cell_type": "markdown",
   "metadata": {},
   "source": [
    "# Skorch-Tutorial\n",
    "- To learn skorch\n",
    "- To test pre-commit"
   ]
  },
  {
   "cell_type": "code",
   "execution_count": 1,
   "metadata": {},
   "outputs": [],
   "source": [
    "import numpy as np\n",
    "from sklearn.datasets import make_classification\n",
    "from sklearn.datasets import make_regression\n",
    "import torch\n",
    "from torch import nn\n",
    "import torch.nn.functional as F"
   ]
  },
  {
   "cell_type": "code",
   "execution_count": 2,
   "metadata": {},
   "outputs": [
    {
     "name": "stdout",
     "output_type": "stream",
     "text": [
      "cuda:0\n"
     ]
    }
   ],
   "source": [
    "device = torch.device(\"cuda:0\" if torch.cuda.is_available() else \"cpu\")\n",
    "print(device)"
   ]
  },
  {
   "cell_type": "markdown",
   "metadata": {},
   "source": [
    "# Classfication"
   ]
  },
  {
   "cell_type": "code",
   "execution_count": null,
   "metadata": {},
   "outputs": [],
   "source": [
    "from skorch import NeuralNetClassifier"
   ]
  },
  {
   "cell_type": "code",
   "execution_count": null,
   "metadata": {},
   "outputs": [],
   "source": [
    "X, y = make_classification(1000, 20, n_informative=10, random_state=0)\n",
    "X = X.astype(np.float32)\n",
    "y = y.astype(np.int64)"
   ]
  },
  {
   "cell_type": "code",
   "execution_count": null,
   "metadata": {},
   "outputs": [],
   "source": [
    "class MyModule(nn.Module):\n",
    "    def __init__(self, num_units=10, nonlin=F.relu):\n",
    "        super(MyModule, self).__init__()\n",
    "\n",
    "        self.dense0 = nn.Linear(20, num_units)\n",
    "        self.nonlin = nonlin\n",
    "        self.dropout = nn.Dropout(0.5)\n",
    "        self.dense1 = nn.Linear(num_units, 10)\n",
    "        self.output = nn.Linear(10, 2)\n",
    "\n",
    "    def forward(self, X, **kwargs):\n",
    "        X = self.nonlin(self.dense0(X))\n",
    "        X = self.dropout(X)\n",
    "        X = F.relu(self.dense1(X))\n",
    "        X = F.softmax(self.output(X))\n",
    "        return X"
   ]
  },
  {
   "cell_type": "code",
   "execution_count": null,
   "metadata": {},
   "outputs": [],
   "source": [
    "net = NeuralNetClassifier(\n",
    "    MyModule,\n",
    "    max_epochs=10,\n",
    "    lr=0.1,\n",
    "    iterator_train__shuffle=True,  # Shuffle training data on each epoch\n",
    "    device=device,  # to use cuda:0\n",
    ")"
   ]
  },
  {
   "cell_type": "code",
   "execution_count": null,
   "metadata": {},
   "outputs": [],
   "source": [
    "net.fit(X, y)\n",
    "y_proba = net.predict_proba(X)"
   ]
  },
  {
   "cell_type": "code",
   "execution_count": null,
   "metadata": {},
   "outputs": [],
   "source": [
    "y_pred = net.predict(X)"
   ]
  },
  {
   "cell_type": "markdown",
   "metadata": {},
   "source": [
    "# Regression, Callbacks\n",
    "- Passing a string: This should be a valid sklearn metric. For a list of all existing scores, look here.\n",
    "- Passing None: If you implement your own .score method on your neural net, passing scoring=None will tell skorch to use that.\n",
    "- Passing a function or callable: If we want to define our own scoring function, we pass a function with the signature func(model, X, y) -> score, which is then used."
   ]
  },
  {
   "cell_type": "code",
   "execution_count": 3,
   "metadata": {},
   "outputs": [],
   "source": [
    "from skorch import NeuralNetRegressor\n",
    "from skorch.callbacks import EpochScoring"
   ]
  },
  {
   "cell_type": "code",
   "execution_count": 4,
   "metadata": {},
   "outputs": [],
   "source": [
    "X_regr, y_regr = make_regression(1000, 20, n_informative=10, random_state=0)\n",
    "X_regr = X_regr.astype(np.float32)\n",
    "y_regr = y_regr.astype(np.float32) / 100\n",
    "y_regr = y_regr.reshape(-1, 1)"
   ]
  },
  {
   "cell_type": "code",
   "execution_count": 10,
   "metadata": {},
   "outputs": [],
   "source": [
    "from sklearn.metrics import mean_absolute_error, mean_squared_error\n",
    "\n",
    "\n",
    "def root_mean_squared_error(net, ds, y=None):\n",
    "    # assume ds yields (X, y), e.g. torchvision.datasets.MNIST\n",
    "    y_true = [y for _, y in ds]\n",
    "    y_pred = net.predict(ds)\n",
    "\n",
    "    return np.sqrt(np.mean((y_pred - y_true) ** 2))\n",
    "\n",
    "\n",
    "mse = EpochScoring(mean_squared_error, lower_is_better=True)\n",
    "mae = EpochScoring(mean_absolute_error, lower_is_better=True)\n",
    "rmse = EpochScoring(root_mean_squared_error, lower_is_better=True)"
   ]
  },
  {
   "cell_type": "code",
   "execution_count": 11,
   "metadata": {},
   "outputs": [],
   "source": [
    "class RegressorModule(nn.Module):\n",
    "    def __init__(\n",
    "        self, num_units=10, nonlin=F.relu,\n",
    "    ):\n",
    "        super(RegressorModule, self).__init__()\n",
    "        self.num_units = num_units\n",
    "        self.nonlin = nonlin\n",
    "\n",
    "        self.dense0 = nn.Linear(20, num_units)\n",
    "        self.nonlin = nonlin\n",
    "        self.dense1 = nn.Linear(num_units, 10)\n",
    "        self.output = nn.Linear(10, 1)\n",
    "\n",
    "    def forward(self, X, **kwargs):\n",
    "        X = self.nonlin(self.dense0(X))\n",
    "        X = F.relu(self.dense1(X))\n",
    "        X = self.output(X)\n",
    "        return X"
   ]
  },
  {
   "cell_type": "code",
   "execution_count": 12,
   "metadata": {},
   "outputs": [],
   "source": [
    "net_regr = NeuralNetRegressor(\n",
    "    RegressorModule, max_epochs=20, lr=0.1, device=device, callbacks=[mse, mae, rmse]\n",
    ")"
   ]
  },
  {
   "cell_type": "code",
   "execution_count": 13,
   "metadata": {},
   "outputs": [
    {
     "name": "stdout",
     "output_type": "stream",
     "text": [
      "  epoch    mean_absolute_error    mean_squared_error    root_mean_squared_error    train_loss    valid_loss     dur\n",
      "-------  ---------------------  --------------------  -------------------------  ------------  ------------  ------\n",
      "      1                 \u001b[36m1.4750\u001b[0m                \u001b[32m3.6311\u001b[0m                     \u001b[35m1.9055\u001b[0m        \u001b[31m4.5859\u001b[0m        \u001b[94m3.6311\u001b[0m  0.0211\n",
      "      2                 \u001b[36m0.8270\u001b[0m                \u001b[32m1.3089\u001b[0m                     \u001b[35m1.1441\u001b[0m        \u001b[31m3.3932\u001b[0m        \u001b[94m1.3089\u001b[0m  0.0212\n",
      "      3                 \u001b[36m0.5631\u001b[0m                \u001b[32m0.4663\u001b[0m                     \u001b[35m0.6829\u001b[0m        \u001b[31m0.9144\u001b[0m        \u001b[94m0.4663\u001b[0m  0.0209\n",
      "      4                 \u001b[36m0.3268\u001b[0m                \u001b[32m0.1823\u001b[0m                     \u001b[35m0.4270\u001b[0m        \u001b[31m0.3117\u001b[0m        \u001b[94m0.1823\u001b[0m  0.0206\n",
      "      5                 0.5618                0.4317                     0.6571        \u001b[31m0.2939\u001b[0m        0.4317  0.0208\n",
      "      6                 0.3464                0.1892                     0.4349        0.3221        0.1892  0.0209\n",
      "      7                 0.3385                \u001b[32m0.1704\u001b[0m                     \u001b[35m0.4128\u001b[0m        \u001b[31m0.2431\u001b[0m        \u001b[94m0.1704\u001b[0m  0.0209\n",
      "      8                 \u001b[36m0.2393\u001b[0m                \u001b[32m0.0926\u001b[0m                     \u001b[35m0.3044\u001b[0m        \u001b[31m0.1075\u001b[0m        \u001b[94m0.0926\u001b[0m  0.0209\n",
      "      9                 \u001b[36m0.2209\u001b[0m                \u001b[32m0.0740\u001b[0m                     \u001b[35m0.2720\u001b[0m        \u001b[31m0.1006\u001b[0m        \u001b[94m0.0740\u001b[0m  0.0209\n",
      "     10                 \u001b[36m0.1774\u001b[0m                \u001b[32m0.0532\u001b[0m                     \u001b[35m0.2305\u001b[0m        \u001b[31m0.0465\u001b[0m        \u001b[94m0.0532\u001b[0m  0.0207\n",
      "     11                 \u001b[36m0.1586\u001b[0m                \u001b[32m0.0394\u001b[0m                     \u001b[35m0.1985\u001b[0m        0.0538        \u001b[94m0.0394\u001b[0m  0.0210\n",
      "     12                 \u001b[36m0.1403\u001b[0m                \u001b[32m0.0355\u001b[0m                     \u001b[35m0.1883\u001b[0m        \u001b[31m0.0235\u001b[0m        \u001b[94m0.0355\u001b[0m  0.0208\n",
      "     13                 \u001b[36m0.1265\u001b[0m                \u001b[32m0.0257\u001b[0m                     \u001b[35m0.1604\u001b[0m        0.0330        \u001b[94m0.0257\u001b[0m  0.0209\n",
      "     14                 \u001b[36m0.1212\u001b[0m                0.0270                     0.1644        \u001b[31m0.0155\u001b[0m        0.0270  0.0210\n",
      "     15                 \u001b[36m0.1047\u001b[0m                \u001b[32m0.0187\u001b[0m                     \u001b[35m0.1366\u001b[0m        0.0233        \u001b[94m0.0187\u001b[0m  0.0210\n",
      "     16                 0.1081                0.0214                     0.1464        \u001b[31m0.0113\u001b[0m        0.0214  0.0209\n",
      "     17                 \u001b[36m0.0911\u001b[0m                \u001b[32m0.0150\u001b[0m                     \u001b[35m0.1224\u001b[0m        0.0169        \u001b[94m0.0150\u001b[0m  0.0209\n",
      "     18                 0.0978                0.0175                     0.1324        \u001b[31m0.0092\u001b[0m        0.0175  0.0207\n",
      "     19                 \u001b[36m0.0841\u001b[0m                \u001b[32m0.0129\u001b[0m                     \u001b[35m0.1137\u001b[0m        0.0128        \u001b[94m0.0129\u001b[0m  0.0206\n",
      "     20                 0.0901                0.0148                     0.1218        \u001b[31m0.0080\u001b[0m        0.0148  0.0207\n"
     ]
    },
    {
     "data": {
      "text/plain": [
       "<class 'skorch.regressor.NeuralNetRegressor'>[initialized](\n",
       "  module_=RegressorModule(\n",
       "    (dense0): Linear(in_features=20, out_features=10, bias=True)\n",
       "    (dense1): Linear(in_features=10, out_features=10, bias=True)\n",
       "    (output): Linear(in_features=10, out_features=1, bias=True)\n",
       "  ),\n",
       ")"
      ]
     },
     "execution_count": 13,
     "metadata": {},
     "output_type": "execute_result"
    }
   ],
   "source": [
    "net_regr.fit(X_regr, y_regr)"
   ]
  },
  {
   "cell_type": "code",
   "execution_count": 14,
   "metadata": {},
   "outputs": [
    {
     "ename": "NameError",
     "evalue": "name 'net_regit' is not defined",
     "output_type": "error",
     "traceback": [
      "\u001b[0;31m----------------------------------------------------------------\u001b[0m",
      "\u001b[0;31mNameError\u001b[0m                      Traceback (most recent call last)",
      "\u001b[0;32m<ipython-input-14-e1e36cea30e9>\u001b[0m in \u001b[0;36m<module>\u001b[0;34m\u001b[0m\n\u001b[0;32m----> 1\u001b[0;31m \u001b[0mnet_regit\u001b[0m\u001b[0;34m.\u001b[0m\u001b[0mpredict\u001b[0m\u001b[0;34m(\u001b[0m\u001b[0mX_regr\u001b[0m\u001b[0;34m)\u001b[0m\u001b[0;34m\u001b[0m\u001b[0m\n\u001b[0m",
      "\u001b[0;31mNameError\u001b[0m: name 'net_regit' is not defined"
     ]
    }
   ],
   "source": [
    "net_regr.predict(X_regr)"
   ]
  },
  {
   "cell_type": "code",
   "execution_count": null,
   "metadata": {},
   "outputs": [],
   "source": []
  }
 ],
 "metadata": {
  "kernelspec": {
   "display_name": "Python 3",
   "language": "python",
   "name": "python3"
  },
  "language_info": {
   "codemirror_mode": {
    "name": "ipython",
    "version": 3
   },
   "file_extension": ".py",
   "mimetype": "text/x-python",
   "name": "python",
   "nbconvert_exporter": "python",
   "pygments_lexer": "ipython3",
   "version": "3.6.5"
  }
 },
 "nbformat": 4,
 "nbformat_minor": 4
}
